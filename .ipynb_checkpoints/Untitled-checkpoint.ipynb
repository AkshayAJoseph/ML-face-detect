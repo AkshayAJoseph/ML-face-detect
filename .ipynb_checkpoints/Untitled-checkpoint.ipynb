{
 "cells": [
  {
   "cell_type": "raw",
   "source": [],
   "metadata": {
    "collapsed": false
   },
   "id": "628deadc559ef111"
  }
 ],
 "metadata": {},
 "nbformat": 4,
 "nbformat_minor": 5
}
